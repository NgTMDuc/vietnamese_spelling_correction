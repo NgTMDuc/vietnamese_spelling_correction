{
 "cells": [
  {
   "cell_type": "code",
   "execution_count": 1,
   "metadata": {},
   "outputs": [
    {
     "name": "stderr",
     "output_type": "stream",
     "text": [
      "/Users/bmd1905/miniforge3/envs/ocr/lib/python3.9/site-packages/tqdm/auto.py:22: TqdmWarning: IProgress not found. Please update jupyter and ipywidgets. See https://ipywidgets.readthedocs.io/en/stable/user_install.html\n",
      "  from .autonotebook import tqdm as notebook_tqdm\n"
     ]
    }
   ],
   "source": [
    "from transformers import pipeline\n",
    "\n",
    "corrector = pipeline(\"text2text-generation\", model=\"bmd1905/vietnamese-corrector\")"
   ]
  },
  {
   "cell_type": "code",
   "execution_count": 2,
   "metadata": {},
   "outputs": [
    {
     "name": "stdout",
     "output_type": "stream",
     "text": [
      "[{'generated_text': 'Công việc kinh doanh thì rất khó khăn nên tôi quyết định chuyển sang nghê khác.'}]\n",
      "[{'generated_text': 'Tôi đang là sinh viên hay ở trường đại học khoa học tự nhiên, trong năm kế tiếp, tôi sẽ chọn chuyên ngành về trí tuệ nhân tạo.'}]\n",
      "[{'generated_text': 'Tôi , đang học AI ở trung tâm AI viet nam.'}]\n",
      "[{'generated_text': 'Nhưng sức huỷ diệt của cơn bão mitch vẫn chưa thấm vào đâu so với thảm hoạ tại Bangladesh năm 1970 .'}]\n",
      "[{'generated_text': 'Lần này anh Phương quyết xếp hàng mua bằng được 1 chiếc.'}]\n",
      "[{'generated_text': 'Một số chuyên gia tài chính ngân hàng của Việt Nam cũng chung quan điểm này.'}]\n"
     ]
    }
   ],
   "source": [
    "print(corrector(\"côn viec kin doanh thì rất kho khan nên toi quyết dinh chuyển sang nghê khac  \", max_length=128))\n",
    "print(corrector(\"toi dang là sinh diên nem hay ở truong đạ hoc khoa jọc tự nhiên , trogn năm ke tiep toi sẽ chọn chuyen nganh về trí tue nhana tạo\", max_length=128))\n",
    "print(corrector(\"Tôi , đang học AI ở trun tam AI viet nam . \", max_length=128))\n",
    "print(corrector(\"Nhưng sức huỷ divt của cơn bão mitch vẫn chưa thấm vào đâu lsovớithảm hoạ tại Bangladesh ăm 1970 \", max_length=128))\n",
    "print(corrector(\"Lần này anh Phươngqyết xếp hàng mua bằng được 1 chiếc\", max_length=128))\n",
    "print(corrector(\"một số chuyen gia tài chính ngâSn hànG của Việt Nam cũng chung quan điểmnày\", max_length=128))"
   ]
  }
 ],
 "metadata": {
  "kernelspec": {
   "display_name": "ocr",
   "language": "python",
   "name": "python3"
  },
  "language_info": {
   "codemirror_mode": {
    "name": "ipython",
    "version": 3
   },
   "file_extension": ".py",
   "mimetype": "text/x-python",
   "name": "python",
   "nbconvert_exporter": "python",
   "pygments_lexer": "ipython3",
   "version": "3.9.16"
  },
  "orig_nbformat": 4,
  "vscode": {
   "interpreter": {
    "hash": "3b7a843eca1cab639b36c3fbecef55435faf57387ff90456c4ff67b93cd6a8d2"
   }
  }
 },
 "nbformat": 4,
 "nbformat_minor": 2
}
