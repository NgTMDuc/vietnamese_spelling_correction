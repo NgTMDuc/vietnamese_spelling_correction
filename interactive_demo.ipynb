{
 "cells": [
  {
   "cell_type": "code",
   "execution_count": 1,
   "metadata": {},
   "outputs": [
    {
     "name": "stderr",
     "output_type": "stream",
     "text": [
      "/home/ogu/source/experiments/spelling_bert/venv/lib/python3.8/site-packages/tqdm/auto.py:22: TqdmWarning: IProgress not found. Please update jupyter and ipywidgets. See https://ipywidgets.readthedocs.io/en/stable/user_install.html\n",
      "  from .autonotebook import tqdm as notebook_tqdm\n"
     ]
    }
   ],
   "source": [
    "from transformers import pipeline"
   ]
  },
  {
   "cell_type": "code",
   "execution_count": 2,
   "metadata": {},
   "outputs": [],
   "source": [
    "#text2text_generator = pipeline()\n",
    "fix_spelling = pipeline(\"text2text-generation\",model=\"models/bart-base-spelling-de\")"
   ]
  },
  {
   "cell_type": "code",
   "execution_count": 8,
   "metadata": {},
   "outputs": [
    {
     "name": "stdout",
     "output_type": "stream",
     "text": [
      "[{'generated_text': 'Das ist ein neuer Test.'}]\n",
      "[{'generated_text': 'Ich schreibe einfach mal drauf los.'}]\n",
      "[{'generated_text': 'Das ist ein Satz, das Haus ist blau'}]\n",
      "[{'generated_text': 'Ist das eine Frage Frau Müller?'}]\n",
      "[{'generated_text': 'Can we mix the languages, können wir die Sprachen mischen.'}]\n",
      "[{'generated_text': 'Es muss ganz kurz überlegen. Genau letzten Donnerstag hatte ich den Tag urlaubt und hat das gute Wetter genutzt, um zu einem Ergebnis zu kommen. Das war ein Rückgang seit März 2000 um 66,2 Prozent.'}]\n"
     ]
    }
   ],
   "source": [
    "print(fix_spelling(\"das idst ein neuZr test\"))\n",
    "print(fix_spelling(\"isch schreibe einfach aml drauf los\"))\n",
    "print(fix_spelling(\"das ist ein satz das haus ist blau\"))\n",
    "print(fix_spelling(\"ist das eine frage frau müller\"))\n",
    "print(fix_spelling(\"can we mix the languages können wir die sprachen mischen\",max_length=2048))\n",
    "\n",
    "test = \"jes muss ganz kurz überlegen genau letzten donnerstag hatte ich den tagurlaub und hat das gute wetter genutzt um ähm zum erstenma ins elb-sandsteingebirge zu fahren das war echt klasse miwan erst an der endstation von der s-bahn und syndquasima kurz nach tschächenrübe gefahren und haben uns dann anschliessend die bastie angeschaut jaqwail sie auch auf jedem kalender abgebildet ist fandig echtklasse wobei er ich minen bisschen anders vorgestelltdewideskatze ausschauen will man ja immer das kalenderbild sieht und sound hätte das aber auch nicht gedacht dass er direkt neben der brücke dann auch noch häuser stehenden dortes sonnengramä abe es war echt lassema an dem ort selbst gewesen zu sein und das mal mit eigenen augen gesehen zu haben was man hat überallso auf den touribildern sieht ansoerreicht das quasi als wwir sind morgenslos gefahren so gegen zehn oder so uns en abends un sieben zurückgekommen\"\n",
    "print(fix_spelling(test,max_length=1024))"
   ]
  },
  {
   "cell_type": "code",
   "execution_count": 9,
   "metadata": {},
   "outputs": [
    {
     "name": "stdout",
     "output_type": "stream",
     "text": [
      "[{'generated_text': 'My name is anna and I live in Boston, I own a car and a cat.'}]\n",
      "[{'generated_text': \"Let's do a comparison.\"}]\n",
      "[{'generated_text': 'This is almost not readible.'}]\n",
      "[{'generated_text': 'This is a test I can correct texts.'}]\n",
      "[{'generated_text': 'This a test.'}]\n",
      "[{'generated_text': \"Who doesn't adore the bride yellow sun?\"}]\n",
      "[{'generated_text': \"Who doesn't adore the yellow sun?\"}]\n",
      "[{'generated_text': \"I won't do this, they're going to be here soon, they's going to get here soon.\"}]\n",
      "[{'generated_text': 'The only 5 star hotel in the city.'}]\n",
      "[{'generated_text': 'The shop is closed due to Covid 19.'}]\n",
      "[{'generated_text': 'You need to seek good in this matter my name is Hanna.'}]\n",
      "[{'generated_text': \"They're going to be here soon.\"}]\n",
      "[{'generated_text': 'I HAVE MY CAPSLOCK ON!'}]\n",
      "[{'generated_text': \"Yet she blushed as if with guilt when Cynthia reading her thoughts said to her one day, molly, you're very glad to get rid of us are not you.\"}]\n"
     ]
    }
   ],
   "source": [
    "print(fix_spelling(\"my name is anna and i live in boston i own a car and a cat\",max_length=1024))\n",
    "print(fix_spelling(\"lets do a comparsion\"))\n",
    "print(fix_spelling(\"ths is allmost nod readible\"))\n",
    "print(fix_spelling(\"This is b test I kan corect texts\"))\n",
    "print(fix_spelling(\"This a test\"))\n",
    "print(fix_spelling(\"who doesnt adore the bride yellow sun\"))\n",
    "print(fix_spelling(\"who doesnt adore the yellow sun\"))\n",
    "print(fix_spelling(\"I wont du this Their going to be here so0n Their going to be here so0n\",max_length=1024))\n",
    "print(fix_spelling(\"the onlie 5 star hotel In the City\"))\n",
    "print(fix_spelling(\"ze shop is cloed due to covid 19\"))\n",
    "print(fix_spelling(\"you need to seek good in thps matter my name is hanna\"))\n",
    "print(fix_spelling(\"their going to be here so0n\"))\n",
    "print(fix_spelling(\"I HAVE MY CAPSLOCK ON\"))\n",
    "print(fix_spelling(\"Yet she blushed as if with guilt when Cynthia reading her thoughts said to her one day molly youre very glad to get rid of us are not you\",max_length=1024))\n",
    "\n"
   ]
  },
  {
   "cell_type": "code",
   "execution_count": 10,
   "metadata": {},
   "outputs": [
    {
     "name": "stdout",
     "output_type": "stream",
     "text": [
      "[{'generated_text': \"They're going to be here soon.\"}, {'generated_text': 'This is a test.  I like it.'}, {'generated_text': \"Don't touch my text. This item is 12.5.50.0050\"}]\n"
     ]
    }
   ],
   "source": [
    "data = [\"They're going to be here soon.\", \"This is a test. I like it.\", \"Don't touch my text. This item is 12.50$.\"]\n",
    "print(fix_spelling(data))"
   ]
  },
  {
   "cell_type": "code",
   "execution_count": 77,
   "metadata": {},
   "outputs": [
    {
     "name": "stdout",
     "output_type": "stream",
     "text": [
      "This is a 1example of the text But its only is 2.5 or 2,5 percent of all data\n"
     ]
    }
   ],
   "source": [
    "import re\n",
    "\n",
    "regex = r\"(?<!\\d)[.,;:'?!](?!\\d)\"\n",
    "\n",
    "test_str = \"This is a 1example of the text. But, it's only is 2.5 or 2,5 percent of all data?!\"\n",
    "\n",
    "result = re.sub(regex, \"\", test_str, 0)\n",
    "print(result)"
   ]
  },
  {
   "cell_type": "markdown",
   "metadata": {},
   "source": []
  }
 ],
 "metadata": {
  "interpreter": {
   "hash": "6f0aeb0118fe905f3269ee277d7200327c1d8ec5bd2d09bd2e03ba6e7b6e45b2"
  },
  "kernelspec": {
   "display_name": "Python 3.8.10 ('venv': venv)",
   "language": "python",
   "name": "python3"
  },
  "language_info": {
   "codemirror_mode": {
    "name": "ipython",
    "version": 3
   },
   "file_extension": ".py",
   "mimetype": "text/x-python",
   "name": "python",
   "nbconvert_exporter": "python",
   "pygments_lexer": "ipython3",
   "version": "3.8.10"
  },
  "orig_nbformat": 4
 },
 "nbformat": 4,
 "nbformat_minor": 2
}
